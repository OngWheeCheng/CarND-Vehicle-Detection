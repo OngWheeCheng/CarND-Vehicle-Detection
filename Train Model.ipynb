{
 "cells": [
  {
   "cell_type": "code",
   "execution_count": 1,
   "metadata": {
    "collapsed": true
   },
   "outputs": [],
   "source": [
    "#import packages\n",
    "import matplotlib.image as mpimg\n",
    "import numpy as np\n",
    "import cv2\n",
    "import time\n",
    "import os\n",
    "from lesson_functions import *\n",
    "from skimage.feature import hog\n",
    "from sklearn.preprocessing import StandardScaler\n",
    "from sklearn.model_selection import train_test_split\n",
    "from sklearn.svm import LinearSVC\n",
    "from sklearn.externals import joblib\n"
   ]
  },
  {
   "cell_type": "code",
   "execution_count": 2,
   "metadata": {
    "collapsed": true
   },
   "outputs": [],
   "source": [
    "def loadData(folder):\n",
    "    cars = []\n",
    "    notcars = []\n",
    "    for dirpath, dirnames, files in os.walk(folder):\n",
    "        if 'non-vehicles' in dirpath:\n",
    "            for image in files:\n",
    "                notcars.append(os.path.join(dirpath, image))\n",
    "        else:\n",
    "            for image in files:\n",
    "                cars.append(os.path.join(dirpath, image))\n",
    "    return cars, notcars\n",
    "\n",
    "# Define a function to return some characteristics of the dataset \n",
    "def dataLook(car_list, notcar_list):\n",
    "    data_dict = {}\n",
    "    # Define a key in data_dict \"nCars\" and store the number of car images\n",
    "    data_dict[\"nCars\"] = len(car_list)\n",
    "    # Define a key \"nNotCars\" and store the number of notcar images\n",
    "    data_dict[\"nNotCars\"] = len(notcar_list)\n",
    "    # Read in a test image, either car or notcar\n",
    "    # Define a key \"imageShape\" and store the test image shape 3-tuple\n",
    "    sample = cv2.imread(car_list[0])\n",
    "    data_dict[\"imageShape\"] = sample.shape\n",
    "    # Define a key \"dataType\" and store the data type of the test image.\n",
    "    data_dict[\"dataType\"] = sample.dtype\n",
    "    # Return data_dict\n",
    "    return data_dict"
   ]
  },
  {
   "cell_type": "code",
   "execution_count": 3,
   "metadata": {},
   "outputs": [
    {
     "name": "stdout",
     "output_type": "stream",
     "text": [
      "8792 cars, 8968 non-cars\n",
      "Image size = (64, 64, 3) , Image type = uint8\n"
     ]
    }
   ],
   "source": [
    "carsList, notCarsList = loadData(\"data\")\n",
    "dataInfo = dataLook(carsList, notCarsList)\n",
    "\n",
    "print(dataInfo[\"nCars\"], \"cars,\", dataInfo[\"nNotCars\"], \"non-cars\")\n",
    "print(\"Image size =\", dataInfo[\"imageShape\"], \", Image type =\", dataInfo[\"dataType\"])\n"
   ]
  },
  {
   "cell_type": "code",
   "execution_count": 4,
   "metadata": {},
   "outputs": [
    {
     "name": "stderr",
     "output_type": "stream",
     "text": [
      "C:\\Users\\Ong Whee Cheng\\Miniconda3\\envs\\carnd-term1\\lib\\site-packages\\skimage\\feature\\_hog.py:119: skimage_deprecation: Default value of `block_norm`==`L1` is deprecated and will be changed to `L2-Hys` in v0.15\n",
      "  'be changed to `L2-Hys` in v0.15', skimage_deprecation)\n"
     ]
    }
   ],
   "source": [
    "# Tweak these parameters and see how the results change.\n",
    "color_space = 'YCrCb' # Can be RGB, HSV, LUV, HLS, YUV, YCrCb\n",
    "orient = 9  # HOG orientations\n",
    "pix_per_cell = 8 # HOG pixels per cell\n",
    "cell_per_block = 2 # HOG cells per block\n",
    "hog_channel = \"ALL\" # Can be 0, 1, 2, or \"ALL\"\n",
    "spatial_size = (32, 32) # Spatial binning dimensions\n",
    "hist_bins = 32    # Number of histogram bins\n",
    "spatial_feat = True # Spatial features on or off\n",
    "hist_feat = True # Histogram features on or off\n",
    "hog_feat = True # HOG features on or off\n",
    "\n",
    "carFeatures = extract_features(carsList, color_space=color_space, \n",
    "                        spatial_size=spatial_size, hist_bins=hist_bins, \n",
    "                        orient=orient, pix_per_cell=pix_per_cell, \n",
    "                        cell_per_block=cell_per_block, \n",
    "                        hog_channel=hog_channel, spatial_feat=spatial_feat, \n",
    "                        hist_feat=hist_feat, hog_feat=hog_feat)\n",
    "notCarFeatures = extract_features(notCarsList, color_space=color_space, \n",
    "                        spatial_size=spatial_size, hist_bins=hist_bins, \n",
    "                        orient=orient, pix_per_cell=pix_per_cell, \n",
    "                        cell_per_block=cell_per_block, \n",
    "                        hog_channel=hog_channel, spatial_feat=spatial_feat, \n",
    "                        hist_feat=hist_feat, hog_feat=hog_feat)"
   ]
  },
  {
   "cell_type": "code",
   "execution_count": 5,
   "metadata": {},
   "outputs": [
    {
     "name": "stdout",
     "output_type": "stream",
     "text": [
      "Using: 9 orientations 8 pixels per cell and 2 cells per block\n",
      "Feature vector length: 8460\n",
      "5148.53 Seconds to train SVC...\n",
      "Test Accuracy of SVC =  0.989\n",
      "Model saved to ['svm\\\\svc.pkl']\n",
      "Scaler saved to ['svm\\\\scaler.pkl']\n"
     ]
    }
   ],
   "source": [
    "X = np.vstack((carFeatures, notCarFeatures)).astype(np.float64)                        \n",
    "# Fit a per-column scaler\n",
    "X_scaler = StandardScaler().fit(X)\n",
    "# Apply the scaler to X\n",
    "scaled_X = X_scaler.transform(X)\n",
    "\n",
    "# Define the labels vector\n",
    "y = np.hstack((np.ones(len(carFeatures)), np.zeros(len(notCarFeatures))))\n",
    "\n",
    "# Split up data into randomized training and test sets\n",
    "rand_state = np.random.randint(0, 100)\n",
    "X_train, X_test, y_train, y_test = train_test_split(scaled_X, y, test_size=0.2, random_state=rand_state)\n",
    "\n",
    "print('Using:',orient,'orientations',pix_per_cell,\n",
    "    'pixels per cell and', cell_per_block,'cells per block')\n",
    "print('Feature vector length:', len(X_train[0]))\n",
    "# Use a linear SVC \n",
    "svc = LinearSVC()\n",
    "# Check the training time for the SVC\n",
    "t=time.time()\n",
    "svc.fit(X_train, y_train)\n",
    "t2 = time.time()\n",
    "print(round(t2-t, 2), 'Seconds to train SVC...')\n",
    "# Check the score of the SVC\n",
    "print('Test Accuracy of SVC = ', round(svc.score(X_test, y_test), 4))\n",
    "# Check the prediction time for a single sample\n",
    "t=time.time()\n",
    "\n",
    "# Save trained model and scaler\n",
    "print(\"Model saved to\", joblib.dump(svc, \"svm\\svc.pkl\"))\n",
    "print(\"Scaler saved to\", joblib.dump(X_scaler, \"svm\\scaler.pkl\"))"
   ]
  },
  {
   "cell_type": "code",
   "execution_count": null,
   "metadata": {
    "collapsed": true
   },
   "outputs": [],
   "source": []
  }
 ],
 "metadata": {
  "kernelspec": {
   "display_name": "Python 3",
   "language": "python",
   "name": "python3"
  },
  "language_info": {
   "codemirror_mode": {
    "name": "ipython",
    "version": 3
   },
   "file_extension": ".py",
   "mimetype": "text/x-python",
   "name": "python",
   "nbconvert_exporter": "python",
   "pygments_lexer": "ipython3",
   "version": "3.5.2"
  },
  "widgets": {
   "state": {},
   "version": "1.1.2"
  }
 },
 "nbformat": 4,
 "nbformat_minor": 2
}
